{
 "cells": [
  {
   "cell_type": "code",
   "execution_count": 1,
   "id": "f60e99e5-7b8d-499b-88f9-2a7ced47c2c8",
   "metadata": {},
   "outputs": [
    {
     "data": {
      "text/plain": [
       "'/home/jovyan/work/RussianNewsSentimentAnalysis/src'"
      ]
     },
     "execution_count": 1,
     "metadata": {},
     "output_type": "execute_result"
    }
   ],
   "source": [
    "import os\n",
    "os.chdir(\"../src\")\n",
    "%pwd"
   ]
  },
  {
   "cell_type": "code",
   "execution_count": 3,
   "id": "7f0dd7e2-fae6-47c5-9e76-4951dee2255c",
   "metadata": {},
   "outputs": [
    {
     "name": "stdout",
     "output_type": "stream",
     "text": [
      "[2024-03-14 18:24:14,362: 148: numexpr.utils: INFO: utils:  Note: NumExpr detected 16 cores but \"NUMEXPR_MAX_THREADS\" not set, so enforcing safe limit of 8.]\n",
      "[2024-03-14 18:24:14,363: 160: numexpr.utils: INFO: utils:  NumExpr defaulting to 8 threads.]\n",
      "[2024-03-14 18:24:14,743: 58: datasets: INFO: config:  PyTorch version 2.2.1+cu118 available.]\n",
      "[2024-03-14 18:24:15,078: 75: logger: INFO: common:  yaml file: russian_news_sentiment_analysis/config/config.yaml loaded successfully]\n"
     ]
    }
   ],
   "source": [
    "from russian_news_sentiment_analysis.utils.common import init_spark_session\n",
    "from russian_news_sentiment_analysis.config.configuration import ConfigurationManager\n",
    "from russian_news_sentiment_analysis.components.label_prediction import LabelPrediction\n",
    "\n",
    "manager = ConfigurationManager()\n",
    "component = LabelPrediction(config=manager.get_label_prediction_config(), \n",
    "                             path=manager.config.path, \n",
    "                             general_config=manager.config.general)\n",
    "\n",
    "spark = init_spark_session()"
   ]
  },
  {
   "cell_type": "markdown",
   "id": "852f2176-951f-42ef-b658-f49b71d0d0e0",
   "metadata": {},
   "source": [
    "## I. Kinopoisk"
   ]
  },
  {
   "cell_type": "code",
   "execution_count": 4,
   "id": "e8c62afa-408a-4473-abb7-86086b579731",
   "metadata": {},
   "outputs": [
    {
     "name": "stdout",
     "output_type": "stream",
     "text": [
      "[2024-03-14 18:24:18,191: 234: logger: INFO: label_prediction:  === STARTING LABEL PREDICTION STAGE for the kinopoisk and r1char9/rubert-base-cased-russian-sentiment model ===]\n",
      "[2024-03-14 18:24:20,879: 64: logger: INFO: label_prediction:  Part1. Tokenised data has been read from HDFS]\n",
      "[2024-03-14 18:24:29,493: 87: logger: INFO: label_prediction:  Part2. Data has been transformed to CustomDataset]\n",
      "[2024-03-14 18:24:30,204: 110: logger: INFO: label_prediction:  Part3. Model has been loaded]\n"
     ]
    },
    {
     "data": {
      "application/vnd.jupyter.widget-view+json": {
       "model_id": "c64d03b5c7244079941dc2175d213b2f",
       "version_major": 2,
       "version_minor": 0
      },
      "text/plain": [
       "batch:   0%|          | 0/72 [00:00<?, ?it/s]"
      ]
     },
     "metadata": {},
     "output_type": "display_data"
    },
    {
     "name": "stdout",
     "output_type": "stream",
     "text": [
      "[2024-03-14 18:29:29,920: 159: logger: INFO: label_prediction:  Part4. Predictions have been made]\n",
      "[2024-03-14 18:29:30,736: 184: logger: INFO: label_prediction:  Part5. Predictions have been merged]\n",
      "[2024-03-14 18:29:32,503: 207: logger: INFO: label_prediction:  Part6. Data has been saved to HDFS]\n",
      "[2024-03-14 18:29:32,504: 248: logger: INFO: label_prediction:  === FINISHED LABEL PREDICTION STAGE for the kinopoisk and r1char9/rubert-base-cased-russian-sentiment model ===]\n",
      "CPU times: user 36min 53s, sys: 58.7 s, total: 37min 52s\n",
      "Wall time: 5min 14s\n"
     ]
    }
   ],
   "source": [
    "%%time\n",
    "component.run_stage(spark=spark, \n",
    "                    filename='kinopoisk', \n",
    "                    model_name='r1char9/rubert-base-cased-russian-sentiment',\n",
    "                    device='cpu',\n",
    "                    label_converter={0: 1, 1: 1, 2: 0})"
   ]
  }
 ],
 "metadata": {
  "kernelspec": {
   "display_name": "Python 3 (ipykernel)",
   "language": "python",
   "name": "python3"
  },
  "language_info": {
   "codemirror_mode": {
    "name": "ipython",
    "version": 3
   },
   "file_extension": ".py",
   "mimetype": "text/x-python",
   "name": "python",
   "nbconvert_exporter": "python",
   "pygments_lexer": "ipython3",
   "version": "3.11.6"
  }
 },
 "nbformat": 4,
 "nbformat_minor": 5
}
