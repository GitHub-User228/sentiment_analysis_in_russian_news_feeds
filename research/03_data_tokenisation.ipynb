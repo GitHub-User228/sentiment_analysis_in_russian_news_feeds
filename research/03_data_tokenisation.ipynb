{
 "cells": [
  {
   "cell_type": "code",
   "execution_count": 1,
   "id": "f60e99e5-7b8d-499b-88f9-2a7ced47c2c8",
   "metadata": {},
   "outputs": [
    {
     "data": {
      "text/plain": [
       "'/home/jovyan/work/RussianNewsSentimentAnalysis/src'"
      ]
     },
     "execution_count": 1,
     "metadata": {},
     "output_type": "execute_result"
    }
   ],
   "source": [
    "import os\n",
    "os.chdir(\"../src\")\n",
    "%pwd"
   ]
  },
  {
   "cell_type": "code",
   "execution_count": 3,
   "id": "7f0dd7e2-fae6-47c5-9e76-4951dee2255c",
   "metadata": {},
   "outputs": [
    {
     "name": "stdout",
     "output_type": "stream",
     "text": [
      "[2024-03-14 18:14:22,012: 75: logger: INFO: common:  yaml file: russian_news_sentiment_analysis/config/config.yaml loaded successfully]\n"
     ]
    }
   ],
   "source": [
    "from russian_news_sentiment_analysis.utils.common import init_spark_session\n",
    "from russian_news_sentiment_analysis.config.configuration import ConfigurationManager\n",
    "from russian_news_sentiment_analysis.components.data_tokenisation import DataTokenisation\n",
    "\n",
    "manager = ConfigurationManager()\n",
    "component = DataTokenisation(config=manager.get_data_tokenisation_config(), \n",
    "                             path=manager.config.path, \n",
    "                             general_config=manager.config.general)\n",
    "\n",
    "spark = init_spark_session()"
   ]
  },
  {
   "cell_type": "code",
   "execution_count": 4,
   "id": "e8c62afa-408a-4473-abb7-86086b579731",
   "metadata": {},
   "outputs": [
    {
     "name": "stdout",
     "output_type": "stream",
     "text": [
      "[2024-03-14 18:14:25,229: 174: logger: INFO: data_tokenisation:  === STARTING DATA TOKENISATION STAGE for the kinopoisk and r1char9/rubert-base-cased-russian-sentiment model ===]\n",
      "[2024-03-14 18:14:27,889: 59: logger: INFO: data_tokenisation:  Part1. Prepared data has been read from HDFS]\n",
      "[2024-03-14 18:14:28,503: 82: logger: INFO: data_tokenisation:  Part2. Tokeniser has been loaded]\n",
      "[2024-03-14 18:14:28,798: 126: logger: INFO: data_tokenisation:  Part3. Data has been tokenised]\n",
      "[2024-03-14 18:14:37,680: 149: logger: INFO: data_tokenisation:  Part4. Tokenised data has been saved to HDFS]\n",
      "[2024-03-14 18:14:37,681: 184: logger: INFO: data_tokenisation:  === FINISHED DATA TOKENISATION STAGE for the kinopoisk and r1char9/rubert-base-cased-russian-sentiment model ===]\n",
      "CPU times: user 428 ms, sys: 44.1 ms, total: 472 ms\n",
      "Wall time: 12.5 s\n"
     ]
    }
   ],
   "source": [
    "%%time\n",
    "component.run_stage(spark=spark, filename='kinopoisk', model_name='r1char9/rubert-base-cased-russian-sentiment')"
   ]
  }
 ],
 "metadata": {
  "kernelspec": {
   "display_name": "Python 3 (ipykernel)",
   "language": "python",
   "name": "python3"
  },
  "language_info": {
   "codemirror_mode": {
    "name": "ipython",
    "version": 3
   },
   "file_extension": ".py",
   "mimetype": "text/x-python",
   "name": "python",
   "nbconvert_exporter": "python",
   "pygments_lexer": "ipython3",
   "version": "3.11.6"
  }
 },
 "nbformat": 4,
 "nbformat_minor": 5
}
