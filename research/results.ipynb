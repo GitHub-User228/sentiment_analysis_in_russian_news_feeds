{
 "cells": [
  {
   "cell_type": "code",
   "execution_count": 1,
   "id": "61337c41-27d1-4fca-ba79-fb6b9b3ec32f",
   "metadata": {},
   "outputs": [
    {
     "data": {
      "text/plain": [
       "'/home/jovyan/work/sentiment_analysis_in_russian_news_feeds/src'"
      ]
     },
     "execution_count": 1,
     "metadata": {},
     "output_type": "execute_result"
    }
   ],
   "source": [
    "import os\n",
    "os.chdir(\"../src\")\n",
    "%pwd"
   ]
  },
  {
   "cell_type": "code",
   "execution_count": 44,
   "id": "d3cc78f2-571b-4ee3-800b-2119cd507a33",
   "metadata": {},
   "outputs": [
    {
     "name": "stdout",
     "output_type": "stream",
     "text": [
      "[2024-03-30 07:35:27,275: 67: logger: INFO: common:  yaml file: russian_news_sentiment_analysis/config/config.yaml loaded successfully]\n"
     ]
    }
   ],
   "source": [
    "from pathlib import Path\n",
    "from russian_news_sentiment_analysis.utils.common import init_spark_session, load_txt, read_yaml\n",
    "from russian_news_sentiment_analysis.config.configuration import ConfigurationManager\n",
    "\n",
    "manager = ConfigurationManager()\n",
    "\n",
    "spark = init_spark_session()"
   ]
  },
  {
   "cell_type": "code",
   "execution_count": 45,
   "id": "0d3d7612-5140-405c-b288-525ffecf21a9",
   "metadata": {},
   "outputs": [
    {
     "name": "stdout",
     "output_type": "stream",
     "text": [
      "[2024-03-30 07:35:27,440: 67: logger: INFO: common:  yaml file: /home/jovyan/work/sentiment_analysis_in_russian_news_feeds/src/russian_news_sentiment_analysis/params/models.yaml loaded successfully]\n",
      "[2024-03-30 07:35:27,452: 67: logger: INFO: common:  yaml file: /home/jovyan/work/sentiment_analysis_in_russian_news_feeds/src/russian_news_sentiment_analysis/params/datasets.yaml loaded successfully]\n"
     ]
    }
   ],
   "source": [
    "import pandas as pd\n",
    "from tqdm.auto import tqdm\n",
    "\n",
    "models = [k['model_name'] for k in read_yaml(Path(manager.config.path.models_params)).values()]\n",
    "datasets = ['.'.join(k['filename'].split('.')[:-1]) for k in read_yaml(Path(manager.config.path.datasets_params)).values()]\n",
    "metrics = ['accuracy', 'weightedPrecision', 'weightedRecall', 'fMeasureByLabel_1', 'weightedFMeasure', 'fMeasureByLabel_0']\n",
    "dfs = dict([(m, pd.DataFrame(columns=datasets, index=models)) for m in metrics])"
   ]
  },
  {
   "cell_type": "code",
   "execution_count": 46,
   "id": "9a69a94b-3639-4230-b94f-1571f227bcb9",
   "metadata": {},
   "outputs": [
    {
     "data": {
      "application/vnd.jupyter.widget-view+json": {
       "model_id": "f2d7a67a94754813a6d53f84341ffb12",
       "version_major": 2,
       "version_minor": 0
      },
      "text/plain": [
       "  0%|          | 0/8 [00:00<?, ?it/s]"
      ]
     },
     "metadata": {},
     "output_type": "display_data"
    }
   ],
   "source": [
    "for dataset in tqdm(datasets, total=len(datasets)):\n",
    "    for model in models:\n",
    "        path = f\"{dataset}_{model.replace('/', '--')}.parquet\"\n",
    "        df = spark.read.json(os.path.join(manager.config.path.metrics_data, path)).toPandas()\n",
    "        for metric in metrics:\n",
    "            dfs[metric].loc[model, dataset] = round(df[df['metric'] == metric]['value'].item(),4)"
   ]
  },
  {
   "cell_type": "code",
   "execution_count": 47,
   "id": "ebdf7b68-4f49-4aec-92a3-dbbd7b410d5f",
   "metadata": {},
   "outputs": [],
   "source": [
    "for (k, v) in dfs.items():\n",
    "    v.to_csv(f'/home/jovyan/work/sentiment_analysis_in_russian_news_feeds/metrics/{k}.csv')"
   ]
  },
  {
   "cell_type": "code",
   "execution_count": 48,
   "id": "a0fdf9b6-b1e5-41ec-90a3-bd789e9bb933",
   "metadata": {},
   "outputs": [],
   "source": [
    "spark.stop()"
   ]
  },
  {
   "cell_type": "code",
   "execution_count": null,
   "id": "d737e479-38a1-4775-8b97-778b089e00cb",
   "metadata": {},
   "outputs": [],
   "source": []
  }
 ],
 "metadata": {
  "kernelspec": {
   "display_name": "Python 3 (ipykernel)",
   "language": "python",
   "name": "python3"
  },
  "language_info": {
   "codemirror_mode": {
    "name": "ipython",
    "version": 3
   },
   "file_extension": ".py",
   "mimetype": "text/x-python",
   "name": "python",
   "nbconvert_exporter": "python",
   "pygments_lexer": "ipython3",
   "version": "3.11.6"
  }
 },
 "nbformat": 4,
 "nbformat_minor": 5
}
