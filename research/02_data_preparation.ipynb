{
 "cells": [
  {
   "cell_type": "code",
   "execution_count": 1,
   "id": "f60e99e5-7b8d-499b-88f9-2a7ced47c2c8",
   "metadata": {},
   "outputs": [
    {
     "data": {
      "text/plain": [
       "'/home/jovyan/work/RussianNewsSentimentAnalysis/src'"
      ]
     },
     "execution_count": 1,
     "metadata": {},
     "output_type": "execute_result"
    }
   ],
   "source": [
    "import os\n",
    "os.chdir(\"../src\")\n",
    "%pwd"
   ]
  },
  {
   "cell_type": "code",
   "execution_count": 3,
   "id": "e94556b0-b02a-4d3e-950d-90dc4302f7bc",
   "metadata": {},
   "outputs": [
    {
     "name": "stdout",
     "output_type": "stream",
     "text": [
      "[2024-01-26 16:34:54,350: 75: logger: INFO: common:  yaml file: russian_news_sentiment_analysis/config/config.yaml loaded successfully]\n"
     ]
    }
   ],
   "source": [
    "from russian_news_sentiment_analysis.utils.common import init_spark_session\n",
    "from russian_news_sentiment_analysis.config.configuration import ConfigurationManager\n",
    "from russian_news_sentiment_analysis.components.data_preparation import DataPreparation\n",
    "\n",
    "manager = ConfigurationManager()\n",
    "component = DataPreparation(config=manager.get_data_preparation_config(), path=manager.config.path, is_new_data=False)\n",
    "\n",
    "spark = init_spark_session()"
   ]
  },
  {
   "cell_type": "code",
   "execution_count": 5,
   "id": "f7fd4da6-2323-4fab-95b7-af023b51b162",
   "metadata": {},
   "outputs": [
    {
     "name": "stdout",
     "output_type": "stream",
     "text": [
      "[2024-01-26 15:43:39,676: 199: logger: INFO: data_preparation:  Part1. Raw data has been read from HDFS]\n",
      "[2024-01-26 15:43:39,793: 202: logger: INFO: data_preparation:  Part2. Raw data has been prepared]\n",
      "[2024-01-26 15:51:05,996: 205: logger: INFO: data_preparation:  Part3. Prepared data has been saved to HDFS]\n",
      "CPU times: user 85.9 ms, sys: 35.4 ms, total: 121 ms\n",
      "Wall time: 7min 28s\n"
     ]
    }
   ],
   "source": [
    "%%time\n",
    "component.run_stage(spark, is_new_data=False)"
   ]
  },
  {
   "cell_type": "code",
   "execution_count": 5,
   "id": "2920bb4b-e917-49a3-8f41-9a7e8ee5ecb9",
   "metadata": {},
   "outputs": [],
   "source": [
    "df = spark.read.parquet(os.path.join(component.path.prepared_data, f'data.parquet'))"
   ]
  },
  {
   "cell_type": "code",
   "execution_count": 7,
   "id": "5e4e56d1-14d2-4953-ba91-1d87a5d19927",
   "metadata": {},
   "outputs": [
    {
     "data": {
      "text/plain": [
       "4273023"
      ]
     },
     "execution_count": 7,
     "metadata": {},
     "output_type": "execute_result"
    }
   ],
   "source": [
    "df.count()"
   ]
  },
  {
   "cell_type": "code",
   "execution_count": 2,
   "id": "7f0dd7e2-fae6-47c5-9e76-4951dee2255c",
   "metadata": {},
   "outputs": [
    {
     "name": "stdout",
     "output_type": "stream",
     "text": [
      "[2024-03-13 16:06:59,347: 15: pymorphy3.opencorpora_dict.wrapper: INFO: wrapper:  Loading dictionaries from /opt/conda/lib/python3.11/site-packages/pymorphy3_dicts_ru/data]\n",
      "[2024-03-13 16:06:59,396: 19: pymorphy3.opencorpora_dict.wrapper: INFO: wrapper:  format: 2.4, revision: 417150, updated: 2022-01-08T22:09:24.565962]\n",
      "[2024-03-13 16:06:59,403: 75: logger: INFO: common:  yaml file: russian_news_sentiment_analysis/config/config.yaml loaded successfully]\n"
     ]
    },
    {
     "name": "stderr",
     "output_type": "stream",
     "text": [
      "[nltk_data] Downloading package stopwords to /home/jovyan/nltk_data...\n",
      "[nltk_data]   Package stopwords is already up-to-date!\n",
      "[nltk_data] Downloading package wordnet to /home/jovyan/nltk_data...\n",
      "[nltk_data]   Package wordnet is already up-to-date!\n",
      "[nltk_data] Downloading package omw-1.4 to /home/jovyan/nltk_data...\n",
      "[nltk_data]   Package omw-1.4 is already up-to-date!\n"
     ]
    }
   ],
   "source": [
    "from russian_news_sentiment_analysis.utils.common import init_spark_session\n",
    "from russian_news_sentiment_analysis.config.configuration import ConfigurationManager\n",
    "from russian_news_sentiment_analysis.components.data_preparation import DataPreparation\n",
    "\n",
    "manager = ConfigurationManager()\n",
    "component = DataPreparation(config=manager.get_data_preparation_config(), \n",
    "                             path=manager.config.path, \n",
    "                             general_config=manager.config.general)\n",
    "\n",
    "spark = init_spark_session()"
   ]
  },
  {
   "cell_type": "code",
   "execution_count": 3,
   "id": "e8c62afa-408a-4473-abb7-86086b579731",
   "metadata": {},
   "outputs": [
    {
     "name": "stdout",
     "output_type": "stream",
     "text": [
      "[2024-03-13 16:07:02,913: 385: logger: INFO: data_preparation:  === STARTING DATA PREPARATION STAGE for the kinopoisk ===]\n",
      "[2024-03-13 16:07:05,712: 252: logger: INFO: data_preparation:  Part1. Raw data has been read from HDFS]\n",
      "[2024-03-13 16:07:05,866: 366: logger: INFO: data_preparation:  Part2. Raw data has been prepared]\n",
      "[2024-03-13 16:07:28,372: 274: logger: INFO: data_preparation:  Part3. Prepared data has been saved to HDFS]\n",
      "[2024-03-13 16:07:28,375: 393: logger: INFO: data_preparation:  === FINISHED DATA PREPARATION STAGE for the kinopoisk ===]\n",
      "CPU times: user 37 ms, sys: 2.03 ms, total: 39 ms\n",
      "Wall time: 25.5 s\n"
     ]
    }
   ],
   "source": [
    "%%time\n",
    "component.run_stage(spark=spark, filename='kinopoisk')"
   ]
  }
 ],
 "metadata": {
  "kernelspec": {
   "display_name": "Python 3 (ipykernel)",
   "language": "python",
   "name": "python3"
  },
  "language_info": {
   "codemirror_mode": {
    "name": "ipython",
    "version": 3
   },
   "file_extension": ".py",
   "mimetype": "text/x-python",
   "name": "python",
   "nbconvert_exporter": "python",
   "pygments_lexer": "ipython3",
   "version": "3.11.6"
  }
 },
 "nbformat": 4,
 "nbformat_minor": 5
}
