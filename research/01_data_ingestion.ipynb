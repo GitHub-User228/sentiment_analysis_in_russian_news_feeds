{
 "cells": [
  {
   "cell_type": "code",
   "execution_count": 1,
   "id": "e9a3cdce-2f9a-4348-919b-13e0a8af116f",
   "metadata": {},
   "outputs": [
    {
     "data": {
      "text/plain": [
       "'/home/jovyan/work/RussianNewsSentimentAnalysis/src'"
      ]
     },
     "execution_count": 1,
     "metadata": {},
     "output_type": "execute_result"
    }
   ],
   "source": [
    "import os\n",
    "os.chdir(\"../src\")\n",
    "%pwd"
   ]
  },
  {
   "cell_type": "code",
   "execution_count": 4,
   "id": "76de21f1-1878-4112-936c-f7b78b2daec5",
   "metadata": {},
   "outputs": [
    {
     "name": "stdout",
     "output_type": "stream",
     "text": [
      "[2024-03-16 15:31:12,873: 175: logger: INFO: common:  txt file loaded successfully from: /home/jovyan/work/RussianNewsSentimentAnalysis/src/logs/hadoop_files.txt]\n"
     ]
    },
    {
     "data": {
      "text/plain": [
       "True"
      ]
     },
     "execution_count": 4,
     "metadata": {},
     "output_type": "execute_result"
    }
   ],
   "source": [
    "from pathlib import Path\n",
    "from russian_news_sentiment_analysis.utils.common import check_if_line_exists\n",
    "check_if_line_exists(Path(component.path.hadoop_files_checklist), os.path.join(component.path.raw_data, f'kinopoisk.jsonl.parquet'))"
   ]
  },
  {
   "cell_type": "code",
   "execution_count": 2,
   "id": "b2bac733-b396-4160-84e5-7a72e9f7f0aa",
   "metadata": {},
   "outputs": [
    {
     "name": "stdout",
     "output_type": "stream",
     "text": [
      "[2024-03-16 15:30:46,415: 148: numexpr.utils: INFO: utils:  Note: NumExpr detected 16 cores but \"NUMEXPR_MAX_THREADS\" not set, so enforcing safe limit of 8.]\n",
      "[2024-03-16 15:30:46,416: 160: numexpr.utils: INFO: utils:  NumExpr defaulting to 8 threads.]\n",
      "[2024-03-16 15:30:46,602: 75: logger: INFO: common:  yaml file: russian_news_sentiment_analysis/config/config.yaml loaded successfully]\n"
     ]
    }
   ],
   "source": [
    "from russian_news_sentiment_analysis.utils.common import init_spark_session\n",
    "from russian_news_sentiment_analysis.config.configuration import ConfigurationManager\n",
    "from russian_news_sentiment_analysis.components.data_ingestion import DataIngestion\n",
    "\n",
    "manager = ConfigurationManager()\n",
    "component = DataIngestion(config=manager.get_data_ingestion_config(), \n",
    "                           path=manager.config.path, \n",
    "                           general_config=manager.config.general)\n",
    "\n",
    "# spark = init_spark_session()"
   ]
  },
  {
   "cell_type": "code",
   "execution_count": 3,
   "id": "2ebd4ee9-19b0-4b4d-930e-4113c1b4165f",
   "metadata": {},
   "outputs": [
    {
     "name": "stdout",
     "output_type": "stream",
     "text": [
      "[2024-03-13 15:58:03,030: 269: logger: INFO: data_ingestion:  === STARTING DATA INGESTION STAGE for the kinopoisk.jsonl data ===]\n",
      "[2024-03-13 15:58:04,829: 164: logger: INFO: data_ingestion:  Part1. Data has been read]\n",
      "[2024-03-13 15:58:04,836: 189: logger: INFO: data_ingestion:  Part2. Labels have been converted]\n",
      "[2024-03-13 15:58:04,886: 219: logger: INFO: data_ingestion:  Part3. Duplicates have been dropped]\n",
      "[2024-03-13 15:58:08,074: 240: logger: INFO: data_ingestion:  Part4. Spark DataFrame has been created from Pandas DataFrame]\n",
      "[2024-03-13 15:58:13,059: 243: logger: INFO: data_ingestion:  Part5. Data has been saved to HDFS]\n",
      "[2024-03-13 15:58:13,060: 279: logger: INFO: data_ingestion:  === FINISHED DATA INGESTION STAGE for the kinopoisk.jsonl data ===]\n",
      "CPU times: user 2.77 s, sys: 620 ms, total: 3.39 s\n",
      "Wall time: 10.1 s\n"
     ]
    }
   ],
   "source": [
    "%%time\n",
    "component.run_stage(spark=spark,\n",
    "                    filename='kinopoisk.jsonl',\n",
    "                    text_col='content',\n",
    "                    label_col='grade3',\n",
    "                    label_converter={'Good': 1, 'Neutral': 1, 'Bad': 0},\n",
    "                    drop_duplicates=True,\n",
    "                    reading_kwargs={'lines': True})"
   ]
  }
 ],
 "metadata": {
  "kernelspec": {
   "display_name": "Python 3 (ipykernel)",
   "language": "python",
   "name": "python3"
  },
  "language_info": {
   "codemirror_mode": {
    "name": "ipython",
    "version": 3
   },
   "file_extension": ".py",
   "mimetype": "text/x-python",
   "name": "python",
   "nbconvert_exporter": "python",
   "pygments_lexer": "ipython3",
   "version": "3.11.6"
  }
 },
 "nbformat": 4,
 "nbformat_minor": 5
}
